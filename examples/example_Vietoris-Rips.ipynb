{
 "cells": [
  {
   "cell_type": "code",
   "execution_count": 1,
   "id": "bc928164",
   "metadata": {},
   "outputs": [],
   "source": [
    "import numpy as np\n",
    "import matplotlib.pyplot as plt\n",
    "import random"
   ]
  },
  {
   "cell_type": "code",
   "execution_count": 2,
   "id": "28337aea",
   "metadata": {},
   "outputs": [],
   "source": [
    "from pyEulerCurves import ECC_from_pointcloud, plot_euler_curve"
   ]
  },
  {
   "cell_type": "markdown",
   "id": "957c827e",
   "metadata": {},
   "source": [
    "## Sample points from the unit circle"
   ]
  },
  {
   "cell_type": "code",
   "execution_count": 3,
   "id": "d618c4dc",
   "metadata": {},
   "outputs": [],
   "source": [
    "point_cloud = []\n",
    "\n",
    "NUMBER_OF_POINTS = 100\n",
    "\n",
    "random.seed(42)\n",
    "for i in range(NUMBER_OF_POINTS):\n",
    "    angle = random.uniform(0,2*np.pi)\n",
    "    point_cloud.append([np.cos(angle), np.sin(angle)])\n",
    "    \n",
    "point_cloud = np.array(point_cloud)"
   ]
  },
  {
   "cell_type": "code",
   "execution_count": 4,
   "id": "ee92fbd9",
   "metadata": {},
   "outputs": [
    {
     "data": {
      "image/png": "[encoded data removed]",
      "text/plain": [
       "<Figure size 432x288 with 1 Axes>"
      ]
     },
     "metadata": {
      "needs_background": "light"
     },
     "output_type": "display_data"
    }
   ],
   "source": [
    "plt.figure()\n",
    "plt.axis('scaled')\n",
    "plt.xlim((-1.2,1.2))\n",
    "plt.ylim((-1.2,1.2))\n",
    "plt.scatter(point_cloud[:,0], point_cloud[:,1])\n",
    "plt.show()"
   ]
  },
  {
   "cell_type": "code",
   "execution_count": 5,
   "id": "49c79b52",
   "metadata": {},
   "outputs": [],
   "source": [
    "trans = ECC_from_pointcloud(epsilon=0.8, # max filtration\n",
    "                            workers=2    # number of CPU cores\n",
    "                           )"
   ]
  },
  {
   "cell_type": "code",
   "execution_count": 6,
   "id": "b0463126",
   "metadata": {},
   "outputs": [
    {
     "name": "stdout",
     "output_type": "stream",
     "text": [
      "CPU times: user 73.7 ms, sys: 35.2 ms, total: 109 ms\n",
      "Wall time: 13 s\n"
     ]
    }
   ],
   "source": [
    "%%time\n",
    "ecc = trans.fit_transform(point_cloud)"
   ]
  },
  {
   "cell_type": "code",
   "execution_count": 7,
   "id": "bf5b487c",
   "metadata": {},
   "outputs": [
    {
     "data": {
      "text/plain": [
       "5838976"
      ]
     },
     "execution_count": 7,
     "metadata": {},
     "output_type": "execute_result"
    }
   ],
   "source": [
    "trans.number_of_simplices"
   ]
  },
  {
   "cell_type": "code",
   "execution_count": 8,
   "id": "ed067c3d",
   "metadata": {},
   "outputs": [
    {
     "data": {
      "image/png": "[encoded data removed]",
      "text/plain": [
       "<Figure size 432x288 with 1 Axes>"
      ]
     },
     "metadata": {
      "needs_background": "light"
     },
     "output_type": "display_data"
    }
   ],
   "source": [
    "plot_euler_curve(ecc, with_lines=True, title='Circle')"
   ]
  },
  {
   "cell_type": "code",
   "execution_count": null,
   "id": "6cfca473",
   "metadata": {},
   "outputs": [],
   "source": []
  }
 ],
 "metadata": {
  "kernelspec": {
   "display_name": "Python 3",
   "language": "python",
   "name": "python3"
  },
  "language_info": {
   "codemirror_mode": {
    "name": "ipython",
    "version": 3
   },
   "file_extension": ".py",
   "mimetype": "text/x-python",
   "name": "python",
   "nbconvert_exporter": "python",
   "pygments_lexer": "ipython3",
   "version": "3.8.6"
  }
 },
 "nbformat": 4,
 "nbformat_minor": 5
}
